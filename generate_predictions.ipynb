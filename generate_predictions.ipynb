{
 "cells": [
  {
   "cell_type": "code",
   "execution_count": 20,
   "id": "1d92e9ad-bb4d-4478-84e3-53df3b78b9bc",
   "metadata": {},
   "outputs": [],
   "source": [
    "import tensorflow as tf\n",
    "import json\n",
    "import pandas as pd\n",
    "import numpy as np"
   ]
  },
  {
   "cell_type": "code",
   "execution_count": 14,
   "id": "cc28559e-cc0c-486a-9f42-396f028f1a9d",
   "metadata": {},
   "outputs": [],
   "source": [
    "model = tf.keras.models.load_model(\"model_cnn_faces.keras\")"
   ]
  },
  {
   "cell_type": "code",
   "execution_count": 15,
   "id": "896c041e-32e8-43c5-9cad-e19fa9dd4ded",
   "metadata": {},
   "outputs": [],
   "source": [
    "with open('model_history.json', 'r') as file:\n",
    "    history_dict = json.load(file)"
   ]
  },
  {
   "cell_type": "code",
   "execution_count": 16,
   "id": "a804089a-82a5-4aff-83a7-ea55b825d449",
   "metadata": {},
   "outputs": [],
   "source": [
    "pred = pd.read_csv('test.txt', header=None, names=['filename'])"
   ]
  },
  {
   "cell_type": "code",
   "execution_count": 17,
   "id": "0deed005-e103-48a0-91f5-acbfcd91a6ae",
   "metadata": {},
   "outputs": [],
   "source": [
    "from tensorflow.keras.preprocessing.image import ImageDataGenerator\n",
    "# Créer un ImageDataGenerator pour la normalisation\n",
    "datagen = ImageDataGenerator(rescale=1./255)"
   ]
  },
  {
   "cell_type": "code",
   "execution_count": 18,
   "id": "144de13e-3711-41a5-98b5-c3b03cc58b12",
   "metadata": {},
   "outputs": [
    {
     "name": "stdout",
     "output_type": "stream",
     "text": [
      "Found 9999 validated image filenames.\n"
     ]
    }
   ],
   "source": [
    "pred_generator = datagen.flow_from_dataframe(\n",
    "    dataframe=pred,\n",
    "    directory=\"test/\",  \n",
    "    x_col='filename',  \n",
    "    y_col=None,   \n",
    "    target_size=(80, 80),\n",
    "    batch_size=32,\n",
    "    class_mode=None,\n",
    "    shuffle=False\n",
    ")"
   ]
  },
  {
   "cell_type": "code",
   "execution_count": 21,
   "id": "c34b74b2-9813-4db3-9b61-f7ef68648f77",
   "metadata": {},
   "outputs": [
    {
     "name": "stdout",
     "output_type": "stream",
     "text": [
      "313/313 [==============================] - 8s 26ms/step\n"
     ]
    }
   ],
   "source": [
    "predictions = model.predict(pred_generator)\n",
    "labels = np.where(predictions > 0.5, 1, -1)\n",
    "pred[\"label\"] = labels.flatten()"
   ]
  },
  {
   "cell_type": "code",
   "execution_count": 22,
   "id": "0223c901-c0f8-42cb-8c33-35d3b5174e35",
   "metadata": {},
   "outputs": [
    {
     "data": {
      "text/plain": [
       "-1    6291\n",
       " 1    3708\n",
       "Name: label, dtype: int64"
      ]
     },
     "execution_count": 22,
     "metadata": {},
     "output_type": "execute_result"
    }
   ],
   "source": [
    "pred[\"label\"].value_counts()"
   ]
  },
  {
   "cell_type": "code",
   "execution_count": null,
   "id": "2524559b-1db0-49a1-8baa-f76e130537d9",
   "metadata": {},
   "outputs": [],
   "source": [
    "# Sauvegarder en fichier .txt\n",
    "pred.to_csv('predictions.txt', index=False, sep='\\t', header=False)"
   ]
  }
 ],
 "metadata": {
  "kernelspec": {
   "display_name": "Python 3 (ipykernel)",
   "language": "python",
   "name": "python3"
  },
  "language_info": {
   "codemirror_mode": {
    "name": "ipython",
    "version": 3
   },
   "file_extension": ".py",
   "mimetype": "text/x-python",
   "name": "python",
   "nbconvert_exporter": "python",
   "pygments_lexer": "ipython3",
   "version": "3.10.11"
  }
 },
 "nbformat": 4,
 "nbformat_minor": 5
}
